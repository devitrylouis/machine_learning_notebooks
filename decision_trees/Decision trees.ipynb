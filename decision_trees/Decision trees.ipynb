{
 "cells": [
  {
   "cell_type": "markdown",
   "metadata": {},
   "source": [
    "# Decision trees"
   ]
  },
  {
   "cell_type": "code",
   "execution_count": 4,
   "metadata": {},
   "outputs": [],
   "source": [
    "import monkdata as m\n",
    "import dtree\n",
    "import numpy as np\n",
    "import matplotlib.pylab as plt\n",
    "import random"
   ]
  },
  {
   "cell_type": "code",
   "execution_count": 2,
   "metadata": {},
   "outputs": [],
   "source": [
    "# To treat data sets in loops\n",
    "monk=np.array([m.monk1,m.monk2,m.monk3])"
   ]
  },
  {
   "cell_type": "markdown",
   "metadata": {},
   "source": [
    "# Assignement 0: Exploratory Data Analysis\n",
    "The datasets whose properties will be the most hard to learn is MONK-2. Because while MONK-1 and MONK-3 properties have a conventional boolean architecture, MONK-3 has not."
   ]
  },
  {
   "cell_type": "markdown",
   "metadata": {},
   "source": [
    "# Assignement 1: Calculate the entropy of each data set"
   ]
  },
  {
   "cell_type": "code",
   "execution_count": 3,
   "metadata": {},
   "outputs": [
    {
     "name": "stdout",
     "output_type": "stream",
     "text": [
      "Entropy of MONK-1: 1.0\n",
      "Entropy of MONK-2: 0.957117428265\n",
      "Entropy of MONK-3: 0.999806132805\n"
     ]
    }
   ],
   "source": [
    "for i in range(0,monk.shape[0]):\n",
    "    print \"Entropy of MONK-%s: %s\"%(i+1,dtree.entropy(monk[i]))"
   ]
  },
  {
   "cell_type": "markdown",
   "metadata": {},
   "source": [
    "# Theory of entropy\n"
   ]
  },
  {
   "cell_type": "markdown",
   "metadata": {},
   "source": [
    "Being not sure of whether we should study the aformentioned entropy (or the one for continuous distribution - the differential entropy), those two will be discussed here. For a random variable $X$:\n",
    "\n",
    "1 - Discrete case $H(X) = -\\sum_{n=1}^N P(X=X_n) \\log_2 P(X = X_n)$\n",
    "\n",
    "2 - Continuous case: $H(X) = -\\int_{supp(X)} f(x)\\cdot log(f(x)) dx$\n",
    "\n",
    "Let us consider the uniform distribution on $\\{ 1,2,...,N \\}$. The entropy is then defined by: $$H(X) = -\\sum_{n=1}^N P(X=X_n) \\log_2 P(X = X_n) = -\\sum_{n=1}^N {1 \\over N} \\log_2 {1 \\over N} = N \\cdot {1 \\over N} \\log_2 N = \\log_2 N.$$ which is actually the maximal value for the entropy (Gibb's inequality can prove this).\n",
    "\n",
    "Let us consider the uniform distribution $X\\sim U(a,b)$. The entropy is therefore: $$H(X)=ln(b-a)$$\n",
    "\n",
    "Let us consider the distribution $X\\sim N(\\mu,\\sigma^{2})$, for which $\\mu$ is fixed and the variance parameter will vary to measure its impact on the entropy $H(X)$. The entropy is defined as: $$H_{\\sigma}(X)=\\int_{\\mathbb{R}}f_{X}(x)\\cdot log(f_{X}(x))dx=ln(\\sigma(\\sqrt{2\\pi e}))$$\n",
    "and therefore, the larger $\\sigma$ gets, the larger the entropy is, which makes sense.\n",
    "\n",
    "Distribution with a high valued entropy: If we consider the coin toss (which has the uniform distribution over $\\{Head,Tail\\}$), the entropy is as large as it can gets.\n",
    "\n",
    "Distribution with a low valued entropy: However, if we consider the English text, treated as a string of characters, then the entropy is fairly low as it is fairly easy predictable."
   ]
  },
  {
   "cell_type": "markdown",
   "metadata": {},
   "source": [
    "# Information gain computations"
   ]
  },
  {
   "cell_type": "code",
   "execution_count": 4,
   "metadata": {},
   "outputs": [
    {
     "name": "stdout",
     "output_type": "stream",
     "text": [
      "[[ 0.07527256  0.00583843  0.00470757  0.0263117   0.28703075  0.00075786]\n",
      " [ 0.00375618  0.0024585   0.00105615  0.01566425  0.01727718  0.00624762]\n",
      " [ 0.00712087  0.29373617  0.00083111  0.00289182  0.25591172  0.00707703]]\n"
     ]
    }
   ],
   "source": [
    "# Information gains computation for each data sets and each attributes\n",
    "gains = np.zeros((3,6))\n",
    "for i in range(0,monk.shape[0]):\n",
    "    for j in range(0,len(m.attributes)):\n",
    "        gains[i,j]=dtree.averageGain(monk[i],m.attributes[j])\n",
    "print gains"
   ]
  },
  {
   "cell_type": "markdown",
   "metadata": {},
   "source": [
    "We can infer from the information gains displayed in the previous array that the attribute with the highest information gain in the MONK-1 data set is 5."
   ]
  },
  {
   "cell_type": "code",
   "execution_count": 5,
   "metadata": {},
   "outputs": [
    {
     "name": "stdout",
     "output_type": "stream",
     "text": [
      "Best attributes for subset A5 with value 1 : A1 (1, 2, 3)\n",
      "Best attributes for subset A5 with value 2 : A4 (1, 2, 3)\n",
      "Best attributes for subset A5 with value 3 : A6 (1, 2)\n",
      "Best attributes for subset A5 with value 4 : A1 (1, 2, 3)\n"
     ]
    }
   ],
   "source": [
    "first_split = []\n",
    "second_attribute = [] # Best attribute after the first split\n",
    "split={}\n",
    "\n",
    "most_common=[]\n",
    "for i in range(0,4):\n",
    "    second_split=\"second_split_\"\n",
    "    first_split.append(dtree.select(m.monk1,m.attributes[4],i+1))\n",
    "    if not first_split[i]:\n",
    "        second_attribute.append(\"The split is empty!\")\n",
    "    else:\n",
    "        second_attribute.append(dtree.bestAttribute(first_split[i],m.attributes))\n",
    "    print \"Best attributes for subset A5 with value\",i+1 ,\":\" , second_attribute[i],second_attribute[i].values \n",
    "    for j in second_attribute[i].values:\n",
    "        split[i,j]=dtree.select(first_split[i],m.attributes[4],i+1) "
   ]
  },
  {
   "cell_type": "markdown",
   "metadata": {},
   "source": [
    "# Splitting, entropy and information gain\n"
   ]
  },
  {
   "cell_type": "markdown",
   "metadata": {},
   "source": [
    "Equation 3: \n",
    "\n",
    "<h1><center>$\\textrm{Gain}(S,A) = \\textrm{Entropy}(S) -\n",
    " \\sum_{k \\in \\textrm{values}(A)} \\frac{|S_k|}{|S|} \\textrm{Entropy}(S_k)$</center></h1>\n",
    "\n"
   ]
  },
  {
   "cell_type": "markdown",
   "metadata": {},
   "source": [
    "When the information gain is maximized, the entropy of the splitted subset is minimized. \n",
    "Moreover, minimizing the entropy will lead to better predictions.  As the splits should maximize the prediction power, the information gain should be maximized after the split and the entropy will reduce accordingly."
   ]
  },
  {
   "cell_type": "markdown",
   "metadata": {},
   "source": [
    "# Building complete decision trees"
   ]
  },
  {
   "cell_type": "code",
   "execution_count": 6,
   "metadata": {},
   "outputs": [
    {
     "name": "stdout",
     "output_type": "stream",
     "text": [
      "Attribute( A1 , 1 ): True\n",
      "Attribute( A1 , 2 ): True\n",
      "Attribute( A1 , 3 ): True\n",
      "Attribute( A4 , 1 ): False\n",
      "Attribute( A4 , 2 ): False\n",
      "Attribute( A4 , 3 ): False\n",
      "Attribute( A6 , 1 ): False\n",
      "Attribute( A6 , 2 ): False\n",
      "Attribute( A1 , 1 ): False\n",
      "Attribute( A1 , 2 ): False\n",
      "Attribute( A1 , 3 ): False\n"
     ]
    }
   ],
   "source": [
    "# Getting the most common type after two nodes\n",
    "output={}\n",
    "for i in range(0,4):\n",
    "    for j in second_attribute[i].values:\n",
    "        output[i,j]=dtree.mostCommon(split[i,j])\n",
    "        print \"Attribute(\",second_attribute[i],\",\",j,\"):\",output[i,j]"
   ]
  },
  {
   "cell_type": "code",
   "execution_count": 7,
   "metadata": {},
   "outputs": [
    {
     "data": {
      "text/plain": [
       "A5(+A4(---)A6(--)A1(--+))"
      ]
     },
     "execution_count": 7,
     "metadata": {},
     "output_type": "execute_result"
    }
   ],
   "source": [
    "# Building two first nodes of the tree using the given function\n",
    "dtree.buildTree(m.monk1,m.attributes,2)"
   ]
  },
  {
   "cell_type": "markdown",
   "metadata": {
    "collapsed": true
   },
   "source": [
    "Therefore, it seems that overall, our tree possesses the same characteristic as the one built by the given python function.\n",
    "However, it seems that A5 = 4 is behaving differently. There seems to be a problem with the node corresponding to A5=1."
   ]
  },
  {
   "cell_type": "code",
   "execution_count": 8,
   "metadata": {},
   "outputs": [
    {
     "name": "stdout",
     "output_type": "stream",
     "text": [
      "MONK1 test error rate: 0.828703703704\n",
      "MONK2 test error rate: 0.69212962963\n",
      "MONK3 test error rate: 0.944444444444\n"
     ]
    }
   ],
   "source": [
    "# Test data classification error\n",
    "test_data=[m.monk1test,m.monk2test,m.monk3test]\n",
    "for i in range(0,monk.shape[0]):\n",
    "    t=dtree.buildTree(monk[i], m.attributes)\n",
    "    print \"MONK%d test error rate: %s\" %(i+1,dtree.check(t, test_data[i]))"
   ]
  },
  {
   "cell_type": "markdown",
   "metadata": {},
   "source": [
    "Our intuition was therefore confirmed and the data set MONK2 is the one most difficult to train."
   ]
  },
  {
   "cell_type": "code",
   "execution_count": 9,
   "metadata": {},
   "outputs": [
    {
     "name": "stdout",
     "output_type": "stream",
     "text": [
      "MONK1 training error rate: 1.0\n",
      "MONK2 training error rate: 1.0\n",
      "MONK3 training error rate: 1.0\n"
     ]
    }
   ],
   "source": [
    "# Training data classification error\n",
    "test_data=[m.monk1test,m.monk2test,m.monk3test]\n",
    "for i in range(0,monk.shape[0]):\n",
    "    t=dtree.buildTree(monk[i], m.attributes)\n",
    "    print \"MONK%d training error rate: %s\" %(i+1,dtree.check(t, monk[i]))"
   ]
  },
  {
   "cell_type": "markdown",
   "metadata": {},
   "source": [
    "# Pruning from a bias-variance persepective\n",
    "<b>Principle of pruning</b>\n",
    "Pruning reduces the size of decision trees by removing sections of the tree that provide little power to classify instances, therefore reducing the complexity of the final classifier, and hence improving predictive accuracy by reducing overfitting.\n",
    "\n",
    "<b>Measures on pruning</b>\n",
    "There are two kind of measures we can make on the quality of a built tree:\n",
    "- Misclassification rate\n",
    "- Node purity (which itself is measured by either the Gini Index or the Entropy)\n",
    "When it comes to compare different subtrees, the latter option is preferred as the two metrics are differentiable (making them fit for gradient-based numerical optimization) and more sensitive to node purity. \n",
    "\n",
    "<b>Bias-variance perspective</b>\n",
    "Growing on the full tree usually result in overfitting. When the tree is iteratively pruned, the accuracy of the predictions generally decrease ensuing a increase in bias. In the mean time, the model is more interpretable and generalizes better (the variance is decreased)."
   ]
  },
  {
   "cell_type": "markdown",
   "metadata": {},
   "source": [
    "# Assignement 7: Evaluate the impact on fraction over error"
   ]
  },
  {
   "cell_type": "code",
   "execution_count": 10,
   "metadata": {
    "collapsed": true
   },
   "outputs": [],
   "source": [
    "# To partition the training set into a train set and a validation set\n",
    "def partition(data, fraction):\n",
    "    ldata = list(data)\n",
    "    random.shuffle(ldata)\n",
    "    breakPoint = int(len(ldata) * fraction)\n",
    "    return ldata[:breakPoint], ldata[breakPoint:]"
   ]
  },
  {
   "cell_type": "code",
   "execution_count": 11,
   "metadata": {
    "collapsed": true
   },
   "outputs": [],
   "source": [
    "# Test pruning\n",
    "def optimalPruning(monk,fraction):\n",
    "    # Partitioning of the data\n",
    "    monk_train, monk_validation = partition(monk, fraction)\n",
    "    # Building the complete tree\n",
    "    tree = dtree.buildTree(monk_train,m.attributes,len(m.attributes))\n",
    "    # Initialization of the tree to be outputed\n",
    "    current_tree=tree\n",
    "    current_error=dtree.check(current_tree,monk_validation)\n",
    "    # Computation of all possible pruned trees\n",
    "    alternatives = dtree.allPruned(tree)\n",
    "    # Testing the pruned trees\n",
    "    for pruned_tree in alternatives:\n",
    "        temp_error = dtree.check(pruned_tree,monk_validation)\n",
    "        if temp_error < current_error:\n",
    "            current_tree = pruned_tree\n",
    "            current_error = temp_error\n",
    "    return current_tree,current_error"
   ]
  },
  {
   "cell_type": "code",
   "execution_count": 12,
   "metadata": {
    "collapsed": true
   },
   "outputs": [],
   "source": [
    "# Boxplot of the fraction with respect to the validation test error rate\n",
    "def boxplot_val(monk,number):\n",
    "    plt.clf()\n",
    "    fraction = np.linspace(0.3,0.8,6)\n",
    "    error=np.zeros((100,len(fraction)))\n",
    "    best_tree={}\n",
    "    for rand in range(0,100):\n",
    "        for i in range(0,len(fraction)):\n",
    "            best_tree[rand,i], error[rand,i] = optimalPruning(monk,fraction[i])\n",
    "    fig = plt.figure(1, figsize=(9, 6))\n",
    "    # Create an axes instance\n",
    "    ax = fig.add_subplot(111)\n",
    "    ax.xaxis.set(ticks=fraction,ticklabels=range(1,7))\n",
    "    ax.set(title='Cross-Validation on the parameter fraction on MONK-%d'%(number),xlabel='Fraction',ylabel='Validation error')\n",
    "\n",
    "    # Create the boxplot\n",
    "    bp = ax.boxplot(error)\n",
    "    plt.xticks(range(1,7),fraction)\n",
    "    plt.show()"
   ]
  },
  {
   "cell_type": "code",
   "execution_count": 13,
   "metadata": {},
   "outputs": [
    {
     "data": {
      "image/png": "[encoded data removed]",
      "text/plain": [
       "<matplotlib.figure.Figure at 0x10a1c3ad0>"
      ]
     },
     "metadata": {},
     "output_type": "display_data"
    },
    {
     "data": {
      "image/png": "[encoded data removed]",
      "text/plain": [
       "<matplotlib.figure.Figure at 0x113dc6190>"
      ]
     },
     "metadata": {},
     "output_type": "display_data"
    }
   ],
   "source": [
    "# Cross-validation of the validation test error with respect to fraction\n",
    "boxplot_val(m.monk1,1)\n",
    "boxplot_val(m.monk3,3)"
   ]
  }
 ],
 "metadata": {
  "kernelspec": {
   "display_name": "Python 2",
   "language": "python",
   "name": "python2"
  },
  "language_info": {
   "codemirror_mode": {
    "name": "ipython",
    "version": 2
   },
   "file_extension": ".py",
   "mimetype": "text/x-python",
   "name": "python",
   "nbconvert_exporter": "python",
   "pygments_lexer": "ipython2",
   "version": "2.7.9"
  }
 },
 "nbformat": 4,
 "nbformat_minor": 2
}
